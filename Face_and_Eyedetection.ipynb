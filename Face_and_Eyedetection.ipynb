{
 "cells": [
  {
   "cell_type": "markdown",
   "metadata": {},
   "source": [
    "# Face and Eye detecion using HAAR cascade classifier\n"
   ]
  },
  {
   "cell_type": "code",
   "execution_count": 1,
   "metadata": {},
   "outputs": [],
   "source": [
    "import numpy as np\n",
    "import cv2\n",
    "\n"
   ]
  },
  {
   "cell_type": "code",
   "execution_count": 2,
   "metadata": {
    "scrolled": true
   },
   "outputs": [],
   "source": [
    "# We point OpenCV's cascade classifier function to where our\n",
    "# classifier (xml file format )is stored\n",
    "face_classifier = cv2.CascadeClassifier('/home/anonymous_pk7/anaconda3/haarcascade/haarcascade_frontalface_default.xml')\n",
    "\n",
    "#Load our image then convert it to Grayscale\n",
    "image = cv2.imread('/home/anonymous_pk7/anaconda3/images/obama.jpeg')\n",
    "gray = cv2.cvtColor(image, cv2.COLOR_BGRA2GRAY)\n",
    "\n",
    "#Our classifier returns the ROI of the detected face as a tuple\n",
    "#It stores the top left coordinate and the bottom right coordinates\n",
    "faces = face_classifier.detectMultiScale(gray,1.3,5)\n",
    "\n",
    "#when no faces detected, face_classifier returns an empty tuple\n",
    "if faces is():\n",
    "    print(\"No faces found\")\n",
    "    \n",
    "\n",
    "# When iterate through our faces array and draw a rectangle\n",
    "#over each face in faces\n",
    "for(x,y,w,h) in faces:\n",
    "    cv2.rectangle(image,(x,y), (x+w,y+h), (127,0,255),2)\n",
    "    cv2.imshow('Face Detection',image)\n",
    "    cv2.waitKey()\n",
    "    \n",
    "\n",
    "cv2.destroyAllWindows()\n",
    "\n",
    "\n",
    "\n",
    "\n",
    "\n"
   ]
  },
  {
   "cell_type": "markdown",
   "metadata": {},
   "source": [
    "## Let's combine face and eye detection"
   ]
  },
  {
   "cell_type": "code",
   "execution_count": 3,
   "metadata": {},
   "outputs": [],
   "source": [
    "import numpy as np\n",
    "import cv2 "
   ]
  },
  {
   "cell_type": "code",
   "execution_count": null,
   "metadata": {},
   "outputs": [],
   "source": [
    "face_classifier = cv2.CascadeClassifier('/home/anonymous_pk7/anaconda3/haarcascade/haarcascade_frontalface_default.xml')\n",
    "eye_classifier = cv2.CascadeClassifier('/home/anonymous_pk7/anaconda3/haarcascade/haarcascade_eye.xml')\n",
    "\n",
    "img = cv2.imread('/home/anonymous_pk7/anaconda3/images/nishant.jpg')\n",
    "gray = cv2.cvtColor(img,cv2.COLOR_BGR2GRAY)\n",
    "\n",
    "faces = face_classifier.detectMultiScale(gray,1.3,5)\n",
    "\n",
    "# When no faces detected, face_classifier returns an empty tuple\n",
    "\n",
    "if faces is():\n",
    "    print(\"No Face Found\")\n",
    "    \n",
    "\n",
    "for(x,y,w,h) in faces:\n",
    "    cv2.rectangle(img,(x,y),(x+w,y+h),(127,0,255),2)\n",
    "    cv2.imshow('img',img)\n",
    "    cv2.waitKey()\n",
    "    roi_gray = gray[y:y+h, x:x+w]\n",
    "    roi_color = img[y:y+h, x:x+w]\n",
    "    eyes = eye_classifier.detectMultiScale(roi_gray)\n",
    "    for (ex,ey,ew,eh) in eyes:\n",
    "        cv2.rectangle(roi_color,(ex,ey),(ex+ew,ey+eh),(255,255,0),2)\n",
    "        cv2.imshow('img',img)\n",
    "        cv2.waitKey()\n",
    "        \n",
    "        \n",
    "cv2.destroyAllWindows()\n",
    "    \n",
    "    \n",
    "    \n"
   ]
  },
  {
   "cell_type": "code",
   "execution_count": null,
   "metadata": {},
   "outputs": [],
   "source": []
  }
 ],
 "metadata": {
  "kernelspec": {
   "display_name": "Python 3",
   "language": "python",
   "name": "python3"
  },
  "language_info": {
   "codemirror_mode": {
    "name": "ipython",
    "version": 3
   },
   "file_extension": ".py",
   "mimetype": "text/x-python",
   "name": "python",
   "nbconvert_exporter": "python",
   "pygments_lexer": "ipython3",
   "version": "3.7.3"
  }
 },
 "nbformat": 4,
 "nbformat_minor": 2
}
