{
 "cells": [
  {
   "cell_type": "markdown",
   "metadata": {},
   "source": [
    "# Car Detection"
   ]
  },
  {
   "cell_type": "code",
   "execution_count": null,
   "metadata": {},
   "outputs": [],
   "source": [
    "import cv2\n",
    "import time\n",
    "import numpy as np\n",
    "\n",
    "#Create our body classifier\n",
    "\n",
    "car_classifier = cv2.CascadeClassifier('/home/anonymous_pk7/anaconda3/haarcascade/haarcascade_cars.xml')\n",
    "\n",
    "#Initiate video capture for video file\n",
    "cap = cv2.VideoCapture('/home/anonymous_pk7/anaconda3/images/video2.avi')\n",
    "\n",
    "\n",
    "\n",
    "\n",
    "#Loop once video is successfully loaded\n",
    "while cap.isOpened():\n",
    "    \n",
    "    time.sleep(.05)\n",
    "    #Read First Frame\n",
    "    \n",
    "    ret, frame = cap.read()\n",
    "    gray = cv2.cvtColor(frame, cv2.COLOR_BGR2GRAY)\n",
    "    \n",
    "    # Pass frame to our car classifier\n",
    "    \n",
    "    cars = car_classifier.detectMultiScale(gray, 1.4,2)\n",
    "    \n",
    "    #Extract bounding boxes for any bodies identified\n",
    "    \n",
    "    for(x,y,w,h) in cars:\n",
    "        cv2.rectangle(frame, (x,y), (x+w,y+h),(0,255,255),2)\n",
    "        cv2.imshow('cars',frame)\n",
    "        \n",
    "    if cv2.waitKey(1) == 13: #13 is the enter key\n",
    "        break\n",
    "        \n",
    "        \n",
    "cap.release()\n",
    "cv2.destroyAllWindows()\n",
    "\n",
    "\n"
   ]
  },
  {
   "cell_type": "code",
   "execution_count": null,
   "metadata": {},
   "outputs": [],
   "source": []
  }
 ],
 "metadata": {
  "kernelspec": {
   "display_name": "Python 3",
   "language": "python",
   "name": "python3"
  },
  "language_info": {
   "codemirror_mode": {
    "name": "ipython",
    "version": 3
   },
   "file_extension": ".py",
   "mimetype": "text/x-python",
   "name": "python",
   "nbconvert_exporter": "python",
   "pygments_lexer": "ipython3",
   "version": "3.7.3"
  }
 },
 "nbformat": 4,
 "nbformat_minor": 2
}
